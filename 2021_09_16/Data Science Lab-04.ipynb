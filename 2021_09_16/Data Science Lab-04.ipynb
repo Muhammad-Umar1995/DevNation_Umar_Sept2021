{
 "cells": [
  {
   "cell_type": "markdown",
   "id": "aquatic-meeting",
   "metadata": {},
   "source": [
    "## Data Science Lab-04\n",
    "\n",
    "### Q1. Create a class Student with the following getters and setters\n",
    "\n",
    "#### 1. Constructor\n",
    "a. Create an Object with following parameters\n",
    "i. Name\n",
    "ii. Batch No\n",
    "iii. Address\n",
    "\n",
    "#### 2. Setters\n",
    "a. Name (Str)\n",
    "b. Batch No (Int)\n",
    "c. Address (str)\n",
    "\n",
    "#### 3. Getters\n",
    "a. Name\n",
    "b. Batch No\n",
    "c. Address\n",
    "\n",
    "#### 4. Create a new class called DevnationStudents which is a child class of Student\n",
    "a. Write a constructor that\n",
    "i. That calls the Parent Class Constructor\n",
    "ii. Also save courses and marks as empty list in the child constructor\n",
    "\n",
    "b. Write setter functions\n",
    "i. Add courses\n",
    "1. Takes a list of courses\n",
    "2. Add only those courses in the list which are not already in the list. For example if the courses list contains [‘datascience’,’Full stack’] and you pass the list [Full stack”,”C++”] Final course list should be [“datascience”,”Full stack”,”C++”]\n",
    "\n",
    "ii. Add courses_marks\n",
    "1. This takes the list of dictionaries I.e [{“course”:”datascience”,”marks”:”50”},{“course”:”Fullstack”:5\n",
    "0}]\n",
    "\n",
    "2. If the particular exists in the courses lists then the particular\n",
    "dictionary should be added in the marks list\n",
    "\n",
    "3. Marks list should not contains duplicate entries of same\n",
    "courses\n",
    "\n",
    "c. Write getter functions\n",
    "\n",
    "i. Get courses\n",
    "\n",
    "ii. Get Marks"
   ]
  },
  {
   "cell_type": "code",
   "execution_count": 69,
   "id": "latest-shipping",
   "metadata": {},
   "outputs": [],
   "source": [
    "#Parent_Calss --> Student\n",
    "\n",
    "\n",
    "\n",
    "#Parent_Constructor\n",
    "\n",
    "class Student():\n",
    "    def __init__(self,name,batch_no,address):\n",
    "        self.name = str(name)\n",
    "        self.batch_no = int(batch_no)\n",
    "        self.address = str(address)\n",
    "        \n",
    "        \n",
    "        \n",
    "#Parent_SETTER\n",
    "\n",
    "    def set_name(self,name):\n",
    "        self.name = name\n",
    "    def set_batch_no(self,batch_no):\n",
    "        self.batch_no = batch_no\n",
    "    def set_address(self,address):\n",
    "        self.address\n",
    "        \n",
    "        \n",
    "\n",
    "#Parent_GETTER\n",
    "\n",
    "    def get_name(self):\n",
    "        return self.name\n",
    "    def get_batch_no(self):\n",
    "        return self.batch_no\n",
    "    def get_address(self):\n",
    "        return get_address\n",
    "        \n",
    "        \n",
    "        \n",
    "        \n",
    "        \n",
    "#Child Calss --> DevnationStudents\n",
    "\n",
    "\n",
    "\n",
    "#Child_Constructor\n",
    "\n",
    "class DevnationStudents(Student):\n",
    "    \n",
    "    def __init__(self,name,batch_no,address,courses=[],marks=[]):\n",
    "        super().__init__(name,batch_no,address)\n",
    "        self.courses = courses\n",
    "        self.marks = marks\n",
    "        \n",
    "        \n",
    "        \n",
    "#Child_SETTER\n",
    "        \n",
    "    def set_courses(self,courses):\n",
    "            self.courses = courses\n",
    "    def set_marks(self,marks):\n",
    "        for i in marks:\n",
    "            if i['course'] in self.courses:\n",
    "                self.marks.append(i)  \n",
    "                  \n",
    "        \n",
    "        \n",
    "        \n",
    "#Child_GETTER    \n",
    "\n",
    "    def get_name(self):\n",
    "        return self.name\n",
    "    def get_batch_no(self):\n",
    "        return self.batch_no\n",
    "    def get_address(self):\n",
    "        return address\n",
    "    def get_courses(self):\n",
    "        return self.courses\n",
    "    def get_marks(self):\n",
    "        return self.marks\n",
    "    \n",
    "    "
   ]
  },
  {
   "cell_type": "code",
   "execution_count": 70,
   "id": "ancient-workstation",
   "metadata": {},
   "outputs": [],
   "source": [
    "p = DevnationStudents('Umar',21,'ISL')"
   ]
  },
  {
   "cell_type": "code",
   "execution_count": 71,
   "id": "impressive-pantyhose",
   "metadata": {},
   "outputs": [],
   "source": [
    "p.set_courses([\"datascience\",\"Full stack\"])"
   ]
  },
  {
   "cell_type": "code",
   "execution_count": 72,
   "id": "elementary-swiss",
   "metadata": {},
   "outputs": [
    {
     "data": {
      "text/plain": [
       "['datascience', 'Full stack']"
      ]
     },
     "execution_count": 72,
     "metadata": {},
     "output_type": "execute_result"
    }
   ],
   "source": [
    "p.get_courses()"
   ]
  },
  {
   "cell_type": "code",
   "execution_count": 75,
   "id": "significant-focus",
   "metadata": {},
   "outputs": [],
   "source": [
    "p.set_marks([{'course': 'datascience','marks':50},{'course':'Full stack','marks':40}])"
   ]
  },
  {
   "cell_type": "code",
   "execution_count": 76,
   "id": "aggressive-interstate",
   "metadata": {},
   "outputs": [
    {
     "data": {
      "text/plain": [
       "[{'course': 'datascience', 'marks': 50},\n",
       " {'course': 'Full stack', 'marks': 40},\n",
       " {'course': 'datascience', 'marks': 50},\n",
       " {'course': 'Full stack', 'marks': 40}]"
      ]
     },
     "execution_count": 76,
     "metadata": {},
     "output_type": "execute_result"
    }
   ],
   "source": [
    "p.get_marks()"
   ]
  }
 ],
 "metadata": {
  "kernelspec": {
   "display_name": "Python 3",
   "language": "python",
   "name": "python3"
  },
  "language_info": {
   "codemirror_mode": {
    "name": "ipython",
    "version": 3
   },
   "file_extension": ".py",
   "mimetype": "text/x-python",
   "name": "python",
   "nbconvert_exporter": "python",
   "pygments_lexer": "ipython3",
   "version": "3.9.2"
  }
 },
 "nbformat": 4,
 "nbformat_minor": 5
}
