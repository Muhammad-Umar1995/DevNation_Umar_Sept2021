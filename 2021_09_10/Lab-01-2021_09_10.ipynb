{
 "cells": [
  {
   "cell_type": "markdown",
   "id": "substantial-gender",
   "metadata": {},
   "source": [
    "## Dev Nation\n",
    "#### Data Science Lab-01"
   ]
  },
  {
   "cell_type": "markdown",
   "id": "bizarre-texas",
   "metadata": {},
   "source": [
    "#### Q1. Write a function get_date(int) that takes a param number_of_days and if the number is odd return (current_date + number_of_days) else return (current_date - number_of_days)"
   ]
  },
  {
   "cell_type": "code",
   "execution_count": 1,
   "id": "executive-belly",
   "metadata": {},
   "outputs": [
    {
     "name": "stdout",
     "output_type": "stream",
     "text": [
      "4\n"
     ]
    }
   ],
   "source": [
    "from datetime import date\n",
    "\n",
    "def get_date(no_of_days):\n",
    "    today=date.today()\n",
    "    x=today.strftime(\"%d\")\n",
    "    if no_of_days % 2 != 0:\n",
    "        \n",
    "        return int(x)+no_of_days\n",
    "    else:\n",
    "        return int(x)-no_of_days\n",
    "        \n",
    "print(get_date(6))"
   ]
  },
  {
   "cell_type": "markdown",
   "id": "assured-sandwich",
   "metadata": {},
   "source": [
    "#### Q2. Write a function stringify using map that takes a list of strings and a function and converts each string into separate string\n",
    "\n",
    " Input =['devnation', 'data science', 'requires', 'dedication']\n",
    "\n",
    " Output =[[‘d’,’e’,’v’,’n’,’a’,’t’,’i’,’o’,’n’],[‘d’,’a’,’t’,’a’,’s’,’i’,’e’,’n’,’c’,’e’], [‘r’,’e’,’q’,’u’,’i’,’r’,’e’,’s’],[‘d’,’e’,’d’,’i’,’c’,’a’,’t’,’i’,’o’,’n’]]"
   ]
  },
  {
   "cell_type": "code",
   "execution_count": 2,
   "id": "ceramic-integration",
   "metadata": {},
   "outputs": [
    {
     "name": "stdout",
     "output_type": "stream",
     "text": [
      "[['d', 'e', 'v', 'n', 'a', 't', 'i', 'o', 'n'], ['d', 'a', 't', 'a', ' ', 's', 'c', 'i', 'e', 'n', 'c', 'e'], ['r', 'e', 'q', 'u', 'i', 'r', 'e', 's'], ['d', 'e', 'd', 'i', 'c', 'a', 't', 'i', 'o', 'n']]\n"
     ]
    }
   ],
   "source": [
    "def ma(p):\n",
    "    out=[]\n",
    "    for i in p:\n",
    "        out.append(i)\n",
    "    return out \n",
    "\n",
    "def stringify(lis):\n",
    "    out=list(map(ma,lis))\n",
    "    return out\n",
    "\n",
    "lis= [\"devnation\", \"data science\", \"requires\", \"dedication\"]\n",
    "print(stringify(lis))"
   ]
  },
  {
   "cell_type": "markdown",
   "id": "metropolitan-member",
   "metadata": {},
   "source": [
    "#### Q3. Write a function string_case(list) using map that takes list of characters and return tuples of tuple with containing lower and upper case of that character’s list\n",
    "\n",
    "Final Output must contains unique tuples\n",
    "\n",
    "Sample = ['f', 'b', 'a',’a’]\n",
    "Result = ((‘F’,’F’),(‘B’,’b’),(‘A’,’a’))"
   ]
  },
  {
   "cell_type": "code",
   "execution_count": 3,
   "id": "dutch-puppy",
   "metadata": {},
   "outputs": [
    {
     "data": {
      "text/plain": [
       "(('F', 'f'), ('B', 'b'), ('A', 'a'), ('A', 'a'))"
      ]
     },
     "execution_count": 3,
     "metadata": {},
     "output_type": "execute_result"
    }
   ],
   "source": [
    "# function1 --> return upper & lower\n",
    "# function2 --> string_case\n",
    "# tuple(map(function1,list))\n",
    "\n",
    "a = ['f', 'b', 'a', 'a']\n",
    "\n",
    "def upper_lower(a):\n",
    "    return a.upper(),a.lower()\n",
    "\n",
    "def string_case(a):\n",
    "    return tuple(map(upper_lower,a))\n",
    "\n",
    "string_case(a)"
   ]
  },
  {
   "cell_type": "markdown",
   "id": "competitive-living",
   "metadata": {},
   "source": [
    "#### Q4. Write a function str_join(list,str) that receives two parameters\n",
    "\n",
    "1. List of strings\n",
    "2. Single_string value\n",
    "\n",
    "By using lambda and map create a new list that concatenates the list elements with a\n",
    "string parameter\n",
    "\n",
    "Example:\n",
    "Param1 = [“a”,”b”,”c”]\n",
    "Param2 = “@”\n",
    "Output = [“a@”,”b@”,”c@”]"
   ]
  },
  {
   "cell_type": "code",
   "execution_count": 4,
   "id": "optimum-april",
   "metadata": {},
   "outputs": [
    {
     "data": {
      "text/plain": [
       "['a@', 'b@', 'c@']"
      ]
     },
     "execution_count": 4,
     "metadata": {},
     "output_type": "execute_result"
    }
   ],
   "source": [
    "# function --> str_join()\n",
    "# parameters --> param1 , param2\n",
    "# list(map(lambda_function,param1))\n",
    "\n",
    "def str_join(lst_val,str_val):\n",
    "    return list(map(lambda x:x+str_val,lst_val))\n",
    "\n",
    "str_join([\"a\",\"b\",\"c\"], \"@\")"
   ]
  },
  {
   "cell_type": "markdown",
   "id": "exclusive-adjustment",
   "metadata": {},
   "source": [
    "#### Q5. Write a function get_city_mpg_avg, that groups the cars by number of cylinders, and finding the average cty mpg for each group.\n",
    "\n",
    "Output should be in the list of tuples\n",
    "\n",
    "Output = [ (5,20),(4,18),(3,16) ]\n",
    "\n",
    "Note:\n",
    "1. Use MPG.csv file\n",
    "2. First index of tuple shows the number of cylinders and second index shows the average\n",
    "3. Result should be sorted by first tuple index by using lambda functions"
   ]
  },
  {
   "cell_type": "code",
   "execution_count": null,
   "id": "confident-brown",
   "metadata": {},
   "outputs": [],
   "source": []
  },
  {
   "cell_type": "markdown",
   "id": "competent-worker",
   "metadata": {},
   "source": [
    "#### Q6. Write a function find_indexes(list,int) takes a list and integer value, if the value exists in the list return the list containing all the index where that integer exists else return “value don’t exist"
   ]
  },
  {
   "cell_type": "code",
   "execution_count": null,
   "id": "intensive-purple",
   "metadata": {},
   "outputs": [],
   "source": []
  },
  {
   "cell_type": "markdown",
   "id": "adolescent-thanksgiving",
   "metadata": {},
   "source": [
    "#### Q7. Write a function to get data from a dictionary.\n",
    "\n",
    "Let’s say this is the dictionary and I want you to get country name so we will pass list of keys\n",
    "like this. [‘address’, ‘addressCountry’, ‘name’], function should return “New Zealand”. Your\n",
    "function should be generaic, we can pass any dictionary and any list of keys according to\n",
    "that and if the data doesn’t exist then return default value we pass when we call the\n",
    "function.\n",
    "\n",
    "#### Sample Dictionary:\n",
    "\n",
    "{\"@context\":\"http:\\u002F\\u002Fschema.org\",\"@type\":\"LodgingBusiness\",\"name\":\"Seabree\n",
    "ze Holiday Park\",\"url\":\"\\u002FHotel_Review-g4475485-d2207450-ReviewsSeabreeze_Holiday_ParkWhenuakite_Coromandel_Peninsula_Waikato_Region_North_Island.html\",\"image\":\"https:\\\n",
    "u002F\\u002Fmedia-cdn.tripadvisor.com\\u002Fmedia\\u002Fphotos\\u002F09\\u002F66\\u002Fa0\\u002F92\\u002Fseabreeze-holiday-park.jpg\",\"priceRange\":\"$\n",
    "(Based on Average Nightly Rates for a Standard Room from our\n",
    "Partners)\",\"aggregateRating\":{\"@type\":\"AggregateRating\",\"ratingValue\":\"3.5\",\"reviewCoun\n",
    "t\":\"15\n",
    "2\"},\"address\":{\"@type\":\"PostalAddress\",\"streetAddress\":\"1043 Tairua Whitianga Road\n",
    "Sh25\",\"addressLocality\":\"Whenuakite\",\"addressRegion\":\"North\n",
    "Island\",\"postalCode\":\"3591\",\"addressCountry\":{\"@type\":\"Country\",\"name\":\"New\n",
    "Zealand\"}}}"
   ]
  },
  {
   "cell_type": "code",
   "execution_count": null,
   "id": "automotive-austin",
   "metadata": {},
   "outputs": [],
   "source": [
    "def \n",
    "\n",
    "dic = {\"@context\":\"http:\\u002F\\u002Fschema.org\",\"@type\":\"LodgingBusiness\",\"name\":\"Seabree ze Holiday Park\",\"url\":\"\\u002FHotel_Review-g4475485-d2207450-ReviewsSeabreeze_Holiday_ParkWhenuakite_Coromandel_Peninsula_Waikato_Region_North_Island.html\",\"image\":\"https:\n",
    "u002F\\u002Fmedia-cdn.tripadvisor.com\\u002Fmedia\\u002Fphotos\\u002F09\\u002F66\\u002Fa0\\u002F92\\u002Fseabreeze-holiday-park.jpg\",\"priceRange\":\"$ (Based on Average Nightly Rates for a Standard Room from our Partners)\",\"aggregateRating\":{\"@type\":\"AggregateRating\",\"ratingValue\":\"3.5\",\"reviewCoun t\":\"15 2\"},\"address\":{\"@type\":\"PostalAddress\",\"streetAddress\":\"1043 Tairua Whitianga Road Sh25\",\"addressLocality\":\"Whenuakite\",\"addressRegion\":\"North Island\",\"postalCode\":\"3591\",\"addressCountry\":{\"@type\":\"Country\",\"name\":\"New Zealand\"}}}\n",
    "print(dic[\"A\"])\n",
    "print(dic[\"C\"])"
   ]
  }
 ],
 "metadata": {
  "kernelspec": {
   "display_name": "Python 3",
   "language": "python",
   "name": "python3"
  },
  "language_info": {
   "codemirror_mode": {
    "name": "ipython",
    "version": 3
   },
   "file_extension": ".py",
   "mimetype": "text/x-python",
   "name": "python",
   "nbconvert_exporter": "python",
   "pygments_lexer": "ipython3",
   "version": "3.9.2"
  }
 },
 "nbformat": 4,
 "nbformat_minor": 5
}
