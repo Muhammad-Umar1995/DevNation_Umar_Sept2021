{
 "cells": [
  {
   "cell_type": "markdown",
   "id": "fiscal-boutique",
   "metadata": {},
   "source": [
    "## Dev Nation\n",
    "#### Data Science Lab-05"
   ]
  },
  {
   "cell_type": "markdown",
   "id": "swedish-potential",
   "metadata": {},
   "source": [
    "### Q1. Create a class Salary with the following getters and setters\n",
    "#### 1. Constructor\n",
    "a. Create an Object with following parameters\n",
    "i. Monthly income\n",
    "ii. Currency\n",
    "iii. Type (Cash or cheque)\n",
    "\n",
    "#### 2. Setters\n",
    "a. Monthly income (Float)\n",
    "b. Currency (string)\n",
    "c. Type (string)\n",
    "\n",
    "#### 3. Getters\n",
    "a. Monthly income (Float)\n",
    "b. Currency (string)\n",
    "c. Type (string)\n",
    "d. Annual Income\n",
    "\n",
    "### 4. Create a new class called Employee which has-a `Salary`\n",
    "#### a. Write a constructor that takes\n",
    "i. Monthly_income\n",
    "ii. Currency\n",
    "iii. Type\n",
    "iv. Bonus\n",
    "v. Annual Salary with empty value\n",
    "vi. Also creates a Salary object and initialize with Monthly_income\n",
    "\n",
    "#### b. Write setter functions\n",
    "i. Total Annual Salary including bonus\n",
    "\n",
    "#### c. Write getter functions\n",
    "i. Get Total Annual Salary\n",
    "1. Should return the statement in this form\n",
    "a. Annual Salary is 50000 Euros including 2500 Annual\n",
    "Bonus\n",
    "b. Here 50000 is the total Annual Salary Including Bonus\n",
    "c. 2500 is the bonus amount\n",
    "d. Euros are currency\n",
    "e. This statement should be created automatically with\n",
    "the values assigned in the object"
   ]
  },
  {
   "cell_type": "code",
   "execution_count": 1,
   "id": "cloudy-applicant",
   "metadata": {},
   "outputs": [],
   "source": [
    "####    Create a class Salary --> Parent\n",
    "####    1. Constructor\n",
    "####    a. Create an Object with following parameters\n",
    "####    i. Monthly income\n",
    "####    ii. Currency\n",
    "####    iii. Type (Cash or cheque)\n",
    "\n",
    "class Salary():\n",
    "    def __init__(self,monthly_income,currency,type_cash_cheque):\n",
    "        self.monthly_income = monthly_income\n",
    "        self.currency = currency\n",
    "        self.type_cash_cheque = type_cash_cheque\n",
    "        \n",
    "        \n",
    "        \n",
    "####    2. Setters\n",
    "####    a. Monthly income (Float)\n",
    "####    b. Currency (string)\n",
    "####    c. Type (string)\n",
    "           \n",
    "    def set_monthly_income(self,monthly_income):\n",
    "        self.monthly_income = float(monthly_income)     \n",
    "    def set_currency(self,currency):\n",
    "        self.currency = str(currency)     \n",
    "    def set_type_cash_cheque(self,type_cash_cheque):\n",
    "        self.type_cash_cheque = str(type_cash_cheque)\n",
    "        \n",
    "\n",
    "        \n",
    "####    3. Getters\n",
    "####    a. Monthly income (Float)\n",
    "####    b. Currency (string)\n",
    "####    c. Type (string)\n",
    "####    d. Annual Income\n",
    "\n",
    "    def get_monthly_income(self):\n",
    "        return self.monthly_income\n",
    "    def get_currency(self):\n",
    "        return self.currency\n",
    "    def get_type_cash_cheque(self):\n",
    "        return self.type_cash_cheque\n",
    "    def get_annual_income(self):\n",
    "        return self.annual_income\n",
    "    \n",
    "    \n",
    "\n",
    "####    4. Create a new class called Employee (Child) which has-a `Salary`\n",
    "####    a. Write a constructor that takes\n",
    "####    i. Monthly_income\n",
    "####    ii. Currency\n",
    "####    iii. Type\n",
    "####    iv. Bonus\n",
    "####    v. Annual Salary with empty value\n",
    "####    vi. Also creates a Salary object and initialize with Monthly_income\n",
    "\n",
    "class Employee(Salary):\n",
    "    def __init__(self,monthly_income,currency,type_cash_cheque,bonus,annual_salary=[]):\n",
    "        super().__init__(monthly_income,currency,type_cash_cheque)\n",
    "        self.bonus = bonus\n",
    "        self.annual_salary = monthly_income * 12\n",
    "\n",
    "    \n",
    "    \n",
    "####    b. Write setter functions\n",
    "####    i. Total Annual Salary including bonus\n",
    "   \n",
    "    def set_bonus(self,bonus):\n",
    "        self.bonus = bonus\n",
    "    def set_annual_salary(self,annual_salary):\n",
    "        self.annual_salary = annual_salary\n",
    "        \n",
    "        \n",
    "        \n",
    "####    c. Write getter functions\n",
    "####    i. Get Total Annual Salary\n",
    "    def get_total_annual_salary(self):\n",
    "        return self.annual_salary + self.bonus\n",
    "    def get_total_annual_income(self):\n",
    "        return \"a. Total Annual Salary is: {} {} excluding {} Annual Bonus\".format(self.annual_salary,self.currency,self.bonus), \"b. Here {} is the total Annual Salary Including Bonus\".format(self.annual_salary+self.bonus),\"c. {} is the bonus amount\".format(self.bonus),\"d. {} are currency\".format(self.currency),\"e. This statement should be created automatically with the values assigned in the object\""
   ]
  },
  {
   "cell_type": "code",
   "execution_count": 2,
   "id": "trying-migration",
   "metadata": {},
   "outputs": [],
   "source": [
    "#child class --> Employee \n",
    "#salary,currency,type,bonus\n",
    "u = Employee(20000,'Euros','Cash',10000)"
   ]
  },
  {
   "cell_type": "code",
   "execution_count": 3,
   "id": "irish-fabric",
   "metadata": {},
   "outputs": [
    {
     "data": {
      "text/plain": [
       "('a. Total Annual Salary is: 240000 Euros excluding 10000 Annual Bonus',\n",
       " 'b. Here 250000 is the total Annual Salary Including Bonus',\n",
       " 'c. 10000 is the bonus amount',\n",
       " 'd. Euros are currency',\n",
       " 'e. This statement should be created automatically with the values assigned in the object')"
      ]
     },
     "execution_count": 3,
     "metadata": {},
     "output_type": "execute_result"
    }
   ],
   "source": [
    "#call child get func --> Employee\n",
    "u.get_total_annual_income()"
   ]
  }
 ],
 "metadata": {
  "kernelspec": {
   "display_name": "Python 3",
   "language": "python",
   "name": "python3"
  },
  "language_info": {
   "codemirror_mode": {
    "name": "ipython",
    "version": 3
   },
   "file_extension": ".py",
   "mimetype": "text/x-python",
   "name": "python",
   "nbconvert_exporter": "python",
   "pygments_lexer": "ipython3",
   "version": "3.9.2"
  }
 },
 "nbformat": 4,
 "nbformat_minor": 5
}
