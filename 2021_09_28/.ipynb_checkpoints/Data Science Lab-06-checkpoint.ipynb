{
 "cells": [
  {
   "cell_type": "code",
   "execution_count": 1,
   "id": "military-gross",
   "metadata": {},
   "outputs": [],
   "source": [
    "class myType:\n",
    "    def __init__(self,a,b):\n",
    "        self.a = a\n",
    "        self.b = b\n",
    "        \n",
    "#new\n",
    "    def __new__(cls,a,b):\n",
    "        if a>500:\n",
    "            print( \"Limit reached\")\n",
    "            return\n",
    "        instance = object.__new__(cls)\n",
    "        return instance\n",
    "    \n",
    "#add    \n",
    "    def __add__(self,obj):\n",
    "        return(self.a+obj.a),(self.b+obj.b)\n",
    "    \n",
    "#sub    \n",
    "    def __sub__(self,obj):\n",
    "        return(self.a-obj.a),(self.b-obj.b)\n",
    "    \n",
    "#greater    \n",
    "    def __gt__(self,obj):\n",
    "        return (self.a>obj.a),(self.b>obj.b)\n",
    "    \n",
    "#less        \n",
    "    def __lt__(self,obj):\n",
    "        return (self.a<obj.a),(self.b<obj.b)"
   ]
  },
  {
   "cell_type": "code",
   "execution_count": 2,
   "id": "desperate-castle",
   "metadata": {},
   "outputs": [
    {
     "name": "stdout",
     "output_type": "stream",
     "text": [
      "Limit reached\n"
     ]
    }
   ],
   "source": [
    "t1=myType(562,50)"
   ]
  },
  {
   "cell_type": "code",
   "execution_count": 3,
   "id": "imperial-entrance",
   "metadata": {},
   "outputs": [],
   "source": [
    "t3=myType(1,2)\n",
    "t4=myType(2,3)"
   ]
  },
  {
   "cell_type": "code",
   "execution_count": 4,
   "id": "wound-courtesy",
   "metadata": {},
   "outputs": [
    {
     "data": {
      "text/plain": [
       "(3, 5)"
      ]
     },
     "execution_count": 4,
     "metadata": {},
     "output_type": "execute_result"
    }
   ],
   "source": [
    "t3+t4"
   ]
  },
  {
   "cell_type": "code",
   "execution_count": 5,
   "id": "divided-helping",
   "metadata": {},
   "outputs": [],
   "source": [
    "t5=myType(1,2)\n",
    "t6=myType(2,3)"
   ]
  },
  {
   "cell_type": "code",
   "execution_count": 6,
   "id": "located-processing",
   "metadata": {},
   "outputs": [
    {
     "data": {
      "text/plain": [
       "(-1, -1)"
      ]
     },
     "execution_count": 6,
     "metadata": {},
     "output_type": "execute_result"
    }
   ],
   "source": [
    "t5-t6"
   ]
  },
  {
   "cell_type": "code",
   "execution_count": 7,
   "id": "intermediate-struggle",
   "metadata": {},
   "outputs": [],
   "source": [
    "t7=myType(2,9)\n",
    "t8=myType(1,3)"
   ]
  },
  {
   "cell_type": "code",
   "execution_count": 8,
   "id": "offshore-volleyball",
   "metadata": {},
   "outputs": [
    {
     "data": {
      "text/plain": [
       "(True, True)"
      ]
     },
     "execution_count": 8,
     "metadata": {},
     "output_type": "execute_result"
    }
   ],
   "source": [
    "t7>t8"
   ]
  },
  {
   "cell_type": "code",
   "execution_count": 9,
   "id": "cooperative-values",
   "metadata": {},
   "outputs": [],
   "source": [
    "t7=myType(9,10)\n",
    "t8=myType(6,9)"
   ]
  },
  {
   "cell_type": "code",
   "execution_count": 10,
   "id": "boolean-denial",
   "metadata": {},
   "outputs": [
    {
     "data": {
      "text/plain": [
       "(False, False)"
      ]
     },
     "execution_count": 10,
     "metadata": {},
     "output_type": "execute_result"
    }
   ],
   "source": [
    "t7<t8"
   ]
  }
 ],
 "metadata": {
  "kernelspec": {
   "display_name": "Python 3",
   "language": "python",
   "name": "python3"
  },
  "language_info": {
   "codemirror_mode": {
    "name": "ipython",
    "version": 3
   },
   "file_extension": ".py",
   "mimetype": "text/x-python",
   "name": "python",
   "nbconvert_exporter": "python",
   "pygments_lexer": "ipython3",
   "version": "3.9.2"
  }
 },
 "nbformat": 4,
 "nbformat_minor": 5
}
