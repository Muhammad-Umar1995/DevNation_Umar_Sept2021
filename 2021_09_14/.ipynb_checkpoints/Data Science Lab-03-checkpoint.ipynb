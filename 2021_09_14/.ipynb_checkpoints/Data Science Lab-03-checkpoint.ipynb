{
 "cells": [
  {
   "cell_type": "markdown",
   "id": "available-regression",
   "metadata": {},
   "source": [
    "## Q1. Create a class Student with the following getters and setters\n",
    "\n",
    "#### 1. Constructor\n",
    "a. Create an Object with following parameters\n",
    "i. Name\n",
    "ii. Batch No\n",
    "iii. Address\n",
    "iv. Courses (save empty List)\n",
    "v. Courses_score (Save empty List)\n",
    "\n",
    "#### 2. Setters\n",
    "a. Name (Str)\n",
    "b. Batch No (Int)\n",
    "c. Courses (list)\n",
    "d. Address (str)\n",
    "e. Courses scores (list of dictionaries) (Bonus)\n",
    "i. [{“course”: datascience,” marks”:30},{“course”:python,”marks”:30} ]\n",
    "ii. If the course name does not exist in the courses list, then it should not\n",
    "be inserted in courses_scores list of dictionaries\n",
    "\n",
    "#### 3. Getters\n",
    "a. Name\n",
    "b. Batch No\n",
    "c. Courses\n",
    "d. Address\n",
    "e. Courses Scores (Bonus)"
   ]
  },
  {
   "cell_type": "code",
   "execution_count": 34,
   "id": "naked-knowing",
   "metadata": {},
   "outputs": [],
   "source": [
    "class Students:\n",
    "    def __init__(self,name,batch_no,address,courses=[],courses_score=[]):\n",
    "        self.name = str(name)\n",
    "        self.batch_no = int(batch_no)\n",
    "        self.address = str(address)\n",
    "        self.courses = courses\n",
    "        self.courses_score = courses_score\n",
    "       \n",
    "  #SETTER  \n",
    "    def set_name(self,name):\n",
    "        self.name = name        \n",
    "    def set_batch_no(self,batch_no):\n",
    "        self.batch_no = batch_no        \n",
    "    def set_address(self,address):\n",
    "        self.address = address        \n",
    "    def set_courses(self,courses):\n",
    "        self.courses = courses\n",
    "    def set_courses_score(self,course_score):\n",
    "        self.courses_score = courses_score \n",
    "    \n",
    "    \n",
    "    #GETTER\n",
    "    def get_name(self):\n",
    "        return self.name\n",
    "    def get_batch_no(self):\n",
    "        return self.batch_no\n",
    "    def get_address(self):\n",
    "        return self.address\n",
    "    def get_courses(self):\n",
    "        return self.courses\n",
    "    def get_courses_score(self):\n",
    "        return self.courses_score"
   ]
  },
  {
   "cell_type": "code",
   "execution_count": 35,
   "id": "supported-tactics",
   "metadata": {},
   "outputs": [],
   "source": [
    "p = Students(\"Muhammad Umar\", 2021, \"Multan\", [],[])"
   ]
  },
  {
   "cell_type": "code",
   "execution_count": 36,
   "id": "continental-shark",
   "metadata": {},
   "outputs": [
    {
     "data": {
      "text/plain": [
       "['datascience']"
      ]
     },
     "execution_count": 36,
     "metadata": {},
     "output_type": "execute_result"
    }
   ],
   "source": [
    "p.set_courses([\"datascience\"])\n",
    "p.get_courses()"
   ]
  }
 ],
 "metadata": {
  "kernelspec": {
   "display_name": "Python 3",
   "language": "python",
   "name": "python3"
  },
  "language_info": {
   "codemirror_mode": {
    "name": "ipython",
    "version": 3
   },
   "file_extension": ".py",
   "mimetype": "text/x-python",
   "name": "python",
   "nbconvert_exporter": "python",
   "pygments_lexer": "ipython3",
   "version": "3.9.2"
  }
 },
 "nbformat": 4,
 "nbformat_minor": 5
}
