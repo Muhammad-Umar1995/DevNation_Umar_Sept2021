{
 "cells": [
  {
   "cell_type": "code",
   "execution_count": 1,
   "id": "following-airplane",
   "metadata": {},
   "outputs": [
    {
     "name": "stdout",
     "output_type": "stream",
     "text": [
      "3\n"
     ]
    }
   ],
   "source": [
    "from datetime import date\n",
    "\n",
    "def get_date(no_of_days):\n",
    "    today=date.today()\n",
    "    x=today.strftime(\"%d\")\n",
    "    if no_of_days % 2 != 0:\n",
    "        \n",
    "        return int(x)+no_of_days\n",
    "    else:\n",
    "        return int(x)-no_of_days\n",
    "        \n",
    "print(get_date(6))\n"
   ]
  },
  {
   "cell_type": "code",
   "execution_count": null,
   "id": "recent-friend",
   "metadata": {},
   "outputs": [],
   "source": []
  }
 ],
 "metadata": {
  "kernelspec": {
   "display_name": "Python 3",
   "language": "python",
   "name": "python3"
  },
  "language_info": {
   "codemirror_mode": {
    "name": "ipython",
    "version": 3
   },
   "file_extension": ".py",
   "mimetype": "text/x-python",
   "name": "python",
   "nbconvert_exporter": "python",
   "pygments_lexer": "ipython3",
   "version": "3.9.2"
  }
 },
 "nbformat": 4,
 "nbformat_minor": 5
}
